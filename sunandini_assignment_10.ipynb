{
  "nbformat": 4,
  "nbformat_minor": 0,
  "metadata": {
    "colab": {
      "provenance": [],
      "authorship_tag": "ABX9TyOzOHvTtr8BpiCdSEMAl3Wj",
      "include_colab_link": true
    },
    "kernelspec": {
      "name": "python3",
      "display_name": "Python 3"
    },
    "language_info": {
      "name": "python"
    },
    "gpuClass": "standard",
    "accelerator": "GPU",
    "widgets": {
      "application/vnd.jupyter.widget-state+json": {
        "c68eac62502e4dbd83488696483e1a98": {
          "model_module": "@jupyter-widgets/controls",
          "model_name": "HBoxModel",
          "model_module_version": "1.5.0",
          "state": {
            "_dom_classes": [],
            "_model_module": "@jupyter-widgets/controls",
            "_model_module_version": "1.5.0",
            "_model_name": "HBoxModel",
            "_view_count": null,
            "_view_module": "@jupyter-widgets/controls",
            "_view_module_version": "1.5.0",
            "_view_name": "HBoxView",
            "box_style": "",
            "children": [
              "IPY_MODEL_a4a33a5845ca44f198ff6d7f125fc02a",
              "IPY_MODEL_3414f4d18fe144f38c4fdcbc84db99f4",
              "IPY_MODEL_d12fda45b9af4a8c9d394c0573649d22"
            ],
            "layout": "IPY_MODEL_64d6acfbfdfb4c4b957c91cefd51edd2"
          }
        },
        "a4a33a5845ca44f198ff6d7f125fc02a": {
          "model_module": "@jupyter-widgets/controls",
          "model_name": "HTMLModel",
          "model_module_version": "1.5.0",
          "state": {
            "_dom_classes": [],
            "_model_module": "@jupyter-widgets/controls",
            "_model_module_version": "1.5.0",
            "_model_name": "HTMLModel",
            "_view_count": null,
            "_view_module": "@jupyter-widgets/controls",
            "_view_module_version": "1.5.0",
            "_view_name": "HTMLView",
            "description": "",
            "description_tooltip": null,
            "layout": "IPY_MODEL_423f858138414873bd00a49a76be6e9f",
            "placeholder": "​",
            "style": "IPY_MODEL_64552ee154f646ff902b174bf853fb6b",
            "value": "100%"
          }
        },
        "3414f4d18fe144f38c4fdcbc84db99f4": {
          "model_module": "@jupyter-widgets/controls",
          "model_name": "FloatProgressModel",
          "model_module_version": "1.5.0",
          "state": {
            "_dom_classes": [],
            "_model_module": "@jupyter-widgets/controls",
            "_model_module_version": "1.5.0",
            "_model_name": "FloatProgressModel",
            "_view_count": null,
            "_view_module": "@jupyter-widgets/controls",
            "_view_module_version": "1.5.0",
            "_view_name": "ProgressView",
            "bar_style": "success",
            "description": "",
            "description_tooltip": null,
            "layout": "IPY_MODEL_b41f0502334849409a697f8450dafeca",
            "max": 170498071,
            "min": 0,
            "orientation": "horizontal",
            "style": "IPY_MODEL_6748989a80044555958d0859887e5862",
            "value": 170498071
          }
        },
        "d12fda45b9af4a8c9d394c0573649d22": {
          "model_module": "@jupyter-widgets/controls",
          "model_name": "HTMLModel",
          "model_module_version": "1.5.0",
          "state": {
            "_dom_classes": [],
            "_model_module": "@jupyter-widgets/controls",
            "_model_module_version": "1.5.0",
            "_model_name": "HTMLModel",
            "_view_count": null,
            "_view_module": "@jupyter-widgets/controls",
            "_view_module_version": "1.5.0",
            "_view_name": "HTMLView",
            "description": "",
            "description_tooltip": null,
            "layout": "IPY_MODEL_c070fac23ff642d8b43524faad874b4d",
            "placeholder": "​",
            "style": "IPY_MODEL_fa1a566b3a624ad9b076eb7c0b831f6c",
            "value": " 170498071/170498071 [00:05&lt;00:00, 33028368.98it/s]"
          }
        },
        "64d6acfbfdfb4c4b957c91cefd51edd2": {
          "model_module": "@jupyter-widgets/base",
          "model_name": "LayoutModel",
          "model_module_version": "1.2.0",
          "state": {
            "_model_module": "@jupyter-widgets/base",
            "_model_module_version": "1.2.0",
            "_model_name": "LayoutModel",
            "_view_count": null,
            "_view_module": "@jupyter-widgets/base",
            "_view_module_version": "1.2.0",
            "_view_name": "LayoutView",
            "align_content": null,
            "align_items": null,
            "align_self": null,
            "border": null,
            "bottom": null,
            "display": null,
            "flex": null,
            "flex_flow": null,
            "grid_area": null,
            "grid_auto_columns": null,
            "grid_auto_flow": null,
            "grid_auto_rows": null,
            "grid_column": null,
            "grid_gap": null,
            "grid_row": null,
            "grid_template_areas": null,
            "grid_template_columns": null,
            "grid_template_rows": null,
            "height": null,
            "justify_content": null,
            "justify_items": null,
            "left": null,
            "margin": null,
            "max_height": null,
            "max_width": null,
            "min_height": null,
            "min_width": null,
            "object_fit": null,
            "object_position": null,
            "order": null,
            "overflow": null,
            "overflow_x": null,
            "overflow_y": null,
            "padding": null,
            "right": null,
            "top": null,
            "visibility": null,
            "width": null
          }
        },
        "423f858138414873bd00a49a76be6e9f": {
          "model_module": "@jupyter-widgets/base",
          "model_name": "LayoutModel",
          "model_module_version": "1.2.0",
          "state": {
            "_model_module": "@jupyter-widgets/base",
            "_model_module_version": "1.2.0",
            "_model_name": "LayoutModel",
            "_view_count": null,
            "_view_module": "@jupyter-widgets/base",
            "_view_module_version": "1.2.0",
            "_view_name": "LayoutView",
            "align_content": null,
            "align_items": null,
            "align_self": null,
            "border": null,
            "bottom": null,
            "display": null,
            "flex": null,
            "flex_flow": null,
            "grid_area": null,
            "grid_auto_columns": null,
            "grid_auto_flow": null,
            "grid_auto_rows": null,
            "grid_column": null,
            "grid_gap": null,
            "grid_row": null,
            "grid_template_areas": null,
            "grid_template_columns": null,
            "grid_template_rows": null,
            "height": null,
            "justify_content": null,
            "justify_items": null,
            "left": null,
            "margin": null,
            "max_height": null,
            "max_width": null,
            "min_height": null,
            "min_width": null,
            "object_fit": null,
            "object_position": null,
            "order": null,
            "overflow": null,
            "overflow_x": null,
            "overflow_y": null,
            "padding": null,
            "right": null,
            "top": null,
            "visibility": null,
            "width": null
          }
        },
        "64552ee154f646ff902b174bf853fb6b": {
          "model_module": "@jupyter-widgets/controls",
          "model_name": "DescriptionStyleModel",
          "model_module_version": "1.5.0",
          "state": {
            "_model_module": "@jupyter-widgets/controls",
            "_model_module_version": "1.5.0",
            "_model_name": "DescriptionStyleModel",
            "_view_count": null,
            "_view_module": "@jupyter-widgets/base",
            "_view_module_version": "1.2.0",
            "_view_name": "StyleView",
            "description_width": ""
          }
        },
        "b41f0502334849409a697f8450dafeca": {
          "model_module": "@jupyter-widgets/base",
          "model_name": "LayoutModel",
          "model_module_version": "1.2.0",
          "state": {
            "_model_module": "@jupyter-widgets/base",
            "_model_module_version": "1.2.0",
            "_model_name": "LayoutModel",
            "_view_count": null,
            "_view_module": "@jupyter-widgets/base",
            "_view_module_version": "1.2.0",
            "_view_name": "LayoutView",
            "align_content": null,
            "align_items": null,
            "align_self": null,
            "border": null,
            "bottom": null,
            "display": null,
            "flex": null,
            "flex_flow": null,
            "grid_area": null,
            "grid_auto_columns": null,
            "grid_auto_flow": null,
            "grid_auto_rows": null,
            "grid_column": null,
            "grid_gap": null,
            "grid_row": null,
            "grid_template_areas": null,
            "grid_template_columns": null,
            "grid_template_rows": null,
            "height": null,
            "justify_content": null,
            "justify_items": null,
            "left": null,
            "margin": null,
            "max_height": null,
            "max_width": null,
            "min_height": null,
            "min_width": null,
            "object_fit": null,
            "object_position": null,
            "order": null,
            "overflow": null,
            "overflow_x": null,
            "overflow_y": null,
            "padding": null,
            "right": null,
            "top": null,
            "visibility": null,
            "width": null
          }
        },
        "6748989a80044555958d0859887e5862": {
          "model_module": "@jupyter-widgets/controls",
          "model_name": "ProgressStyleModel",
          "model_module_version": "1.5.0",
          "state": {
            "_model_module": "@jupyter-widgets/controls",
            "_model_module_version": "1.5.0",
            "_model_name": "ProgressStyleModel",
            "_view_count": null,
            "_view_module": "@jupyter-widgets/base",
            "_view_module_version": "1.2.0",
            "_view_name": "StyleView",
            "bar_color": null,
            "description_width": ""
          }
        },
        "c070fac23ff642d8b43524faad874b4d": {
          "model_module": "@jupyter-widgets/base",
          "model_name": "LayoutModel",
          "model_module_version": "1.2.0",
          "state": {
            "_model_module": "@jupyter-widgets/base",
            "_model_module_version": "1.2.0",
            "_model_name": "LayoutModel",
            "_view_count": null,
            "_view_module": "@jupyter-widgets/base",
            "_view_module_version": "1.2.0",
            "_view_name": "LayoutView",
            "align_content": null,
            "align_items": null,
            "align_self": null,
            "border": null,
            "bottom": null,
            "display": null,
            "flex": null,
            "flex_flow": null,
            "grid_area": null,
            "grid_auto_columns": null,
            "grid_auto_flow": null,
            "grid_auto_rows": null,
            "grid_column": null,
            "grid_gap": null,
            "grid_row": null,
            "grid_template_areas": null,
            "grid_template_columns": null,
            "grid_template_rows": null,
            "height": null,
            "justify_content": null,
            "justify_items": null,
            "left": null,
            "margin": null,
            "max_height": null,
            "max_width": null,
            "min_height": null,
            "min_width": null,
            "object_fit": null,
            "object_position": null,
            "order": null,
            "overflow": null,
            "overflow_x": null,
            "overflow_y": null,
            "padding": null,
            "right": null,
            "top": null,
            "visibility": null,
            "width": null
          }
        },
        "fa1a566b3a624ad9b076eb7c0b831f6c": {
          "model_module": "@jupyter-widgets/controls",
          "model_name": "DescriptionStyleModel",
          "model_module_version": "1.5.0",
          "state": {
            "_model_module": "@jupyter-widgets/controls",
            "_model_module_version": "1.5.0",
            "_model_name": "DescriptionStyleModel",
            "_view_count": null,
            "_view_module": "@jupyter-widgets/base",
            "_view_module_version": "1.2.0",
            "_view_name": "StyleView",
            "description_width": ""
          }
        }
      }
    }
  },
  "cells": [
    {
      "cell_type": "markdown",
      "metadata": {
        "id": "view-in-github",
        "colab_type": "text"
      },
      "source": [
        "<a href=\"https://colab.research.google.com/github/sunandhini96/school_of_AI-Assignment10/blob/main/sunandini_assignment_10.ipynb\" target=\"_parent\"><img src=\"https://colab.research.google.com/assets/colab-badge.svg\" alt=\"Open In Colab\"/></a>"
      ]
    },
    {
      "cell_type": "code",
      "source": [
        "!git clone https://github.com/sunandhini96/Main_Models.git"
      ],
      "metadata": {
        "colab": {
          "base_uri": "https://localhost:8080/"
        },
        "id": "N9gObv2KEDmn",
        "outputId": "c3c47234-45bf-4b29-f710-ff7cad4080b1"
      },
      "execution_count": 1,
      "outputs": [
        {
          "output_type": "stream",
          "name": "stdout",
          "text": [
            "Cloning into 'Main_Models'...\n",
            "remote: Enumerating objects: 274, done.\u001b[K\n",
            "remote: Counting objects: 100% (166/166), done.\u001b[K\n",
            "remote: Compressing objects: 100% (93/93), done.\u001b[K\n",
            "remote: Total 274 (delta 85), reused 135 (delta 73), pack-reused 108\u001b[K\n",
            "Receiving objects: 100% (274/274), 82.92 KiB | 10.37 MiB/s, done.\n",
            "Resolving deltas: 100% (125/125), done.\n"
          ]
        }
      ]
    },
    {
      "cell_type": "code",
      "source": [
        "cd /content/Main_Models"
      ],
      "metadata": {
        "colab": {
          "base_uri": "https://localhost:8080/"
        },
        "id": "2saRI6JCE69A",
        "outputId": "905eff35-2a5e-4d31-84c2-64e08e56cfb6"
      },
      "execution_count": 2,
      "outputs": [
        {
          "output_type": "stream",
          "name": "stdout",
          "text": [
            "/content/Main_Models\n"
          ]
        }
      ]
    },
    {
      "cell_type": "code",
      "source": [
        "from Models import *"
      ],
      "metadata": {
        "id": "hjg9M4ubE_dT"
      },
      "execution_count": 3,
      "outputs": []
    },
    {
      "cell_type": "code",
      "source": [
        "!pip install torchinfo\n",
        "!pip install einops"
      ],
      "metadata": {
        "colab": {
          "base_uri": "https://localhost:8080/"
        },
        "id": "IvRz9wx3G38r",
        "outputId": "fcc1b98c-641f-49c3-b57b-3d029204ca45"
      },
      "execution_count": 4,
      "outputs": [
        {
          "output_type": "stream",
          "name": "stdout",
          "text": [
            "Looking in indexes: https://pypi.org/simple, https://us-python.pkg.dev/colab-wheels/public/simple/\n",
            "Collecting torchinfo\n",
            "  Downloading torchinfo-1.7.2-py3-none-any.whl (22 kB)\n",
            "Installing collected packages: torchinfo\n",
            "Successfully installed torchinfo-1.7.2\n",
            "Looking in indexes: https://pypi.org/simple, https://us-python.pkg.dev/colab-wheels/public/simple/\n",
            "Collecting einops\n",
            "  Downloading einops-0.6.0-py3-none-any.whl (41 kB)\n",
            "\u001b[2K     \u001b[90m━━━━━━━━━━━━━━━━━━━━━━━━━━━━━━━━━━━━━━━━\u001b[0m \u001b[32m41.6/41.6 KB\u001b[0m \u001b[31m1.2 MB/s\u001b[0m eta \u001b[36m0:00:00\u001b[0m\n",
            "\u001b[?25hInstalling collected packages: einops\n",
            "Successfully installed einops-0.6.0\n"
          ]
        }
      ]
    },
    {
      "cell_type": "code",
      "source": [
        "from Models.vit import *"
      ],
      "metadata": {
        "id": "Gvi60jC8FC4e"
      },
      "execution_count": 5,
      "outputs": []
    },
    {
      "cell_type": "code",
      "source": [
        "DATA_DIR='./data'"
      ],
      "metadata": {
        "id": "FxsSX5n9SFZk"
      },
      "execution_count": 6,
      "outputs": []
    },
    {
      "cell_type": "code",
      "source": [
        "DEVICE = torch.device(\"cuda\") if torch.cuda.is_available() else torch.device(\"cpu\")\n",
        "print(\"device:\", DEVICE)"
      ],
      "metadata": {
        "colab": {
          "base_uri": "https://localhost:8080/"
        },
        "id": "9U6lRWoVSGGp",
        "outputId": "0e6e8bb3-fd54-4b4e-87b8-7eddf5f1cd6e"
      },
      "execution_count": 7,
      "outputs": [
        {
          "output_type": "stream",
          "name": "stdout",
          "text": [
            "device: cuda\n"
          ]
        }
      ]
    },
    {
      "cell_type": "code",
      "source": [
        "NUM_CLASSES, IMAGE_SIZE = 10, 32\n",
        "patch_size=2\n",
        "mlp_dim=32\n",
        "dim=32\n",
        "depth=4\n",
        "heads=4\n",
        "\n",
        "model = ViT(IMAGE_SIZE,patch_size,NUM_CLASSES,dim, depth, heads, mlp_dim, pool = 'cls', channels = 3, dim_head = 8, dropout = 0., emb_dropout = 0.)\n"
      ],
      "metadata": {
        "id": "uWRWjGobRtjs"
      },
      "execution_count": 8,
      "outputs": []
    },
    {
      "cell_type": "code",
      "source": [
        "model.to(DEVICE)"
      ],
      "metadata": {
        "colab": {
          "base_uri": "https://localhost:8080/"
        },
        "id": "2IPK72KIhN5n",
        "outputId": "5c529633-1cb3-4095-f8ca-20ecf397d739"
      },
      "execution_count": 9,
      "outputs": [
        {
          "output_type": "execute_result",
          "data": {
            "text/plain": [
              "ViT(\n",
              "  (to_patch_embedding): Sequential(\n",
              "    (0): Conv2d(3, 12, kernel_size=(3, 3), stride=(1, 1), padding=(1, 1))\n",
              "    (1): GELU(approximate='none')\n",
              "    (2): Conv2d(12, 32, kernel_size=(2, 2), stride=(2, 2))\n",
              "    (3): Flatten(start_dim=2, end_dim=3)\n",
              "  )\n",
              "  (dropout): Dropout(p=0.0, inplace=False)\n",
              "  (transformer): Transformer(\n",
              "    (layers): ModuleList(\n",
              "      (0): ModuleList(\n",
              "        (0): PreNorm(\n",
              "          (norm): LayerNorm((32,), eps=1e-05, elementwise_affine=True)\n",
              "          (fn): Attention(\n",
              "            (attend): Softmax(dim=-1)\n",
              "            (to_keys): Conv2d(32, 32, kernel_size=(1, 1), stride=(1, 1))\n",
              "            (to_queries): Conv2d(32, 32, kernel_size=(1, 1), stride=(1, 1))\n",
              "            (to_values): Conv2d(32, 32, kernel_size=(1, 1), stride=(1, 1))\n",
              "            (unifyheads): Conv2d(32, 32, kernel_size=(1, 1), stride=(1, 1))\n",
              "            (to_out): Sequential(\n",
              "              (0): Linear(in_features=32, out_features=32, bias=True)\n",
              "              (1): Dropout(p=0.0, inplace=False)\n",
              "            )\n",
              "            (out1): Flatten(start_dim=1, end_dim=2)\n",
              "          )\n",
              "        )\n",
              "        (1): PreNorm(\n",
              "          (norm): LayerNorm((32,), eps=1e-05, elementwise_affine=True)\n",
              "          (fn): FeedForward(\n",
              "            (net): Sequential(\n",
              "              (0): Linear(in_features=32, out_features=32, bias=True)\n",
              "              (1): GELU(approximate='none')\n",
              "              (2): Dropout(p=0.0, inplace=False)\n",
              "              (3): Linear(in_features=32, out_features=32, bias=True)\n",
              "              (4): Dropout(p=0.0, inplace=False)\n",
              "            )\n",
              "          )\n",
              "        )\n",
              "      )\n",
              "      (1): ModuleList(\n",
              "        (0): PreNorm(\n",
              "          (norm): LayerNorm((32,), eps=1e-05, elementwise_affine=True)\n",
              "          (fn): Attention(\n",
              "            (attend): Softmax(dim=-1)\n",
              "            (to_keys): Conv2d(32, 32, kernel_size=(1, 1), stride=(1, 1))\n",
              "            (to_queries): Conv2d(32, 32, kernel_size=(1, 1), stride=(1, 1))\n",
              "            (to_values): Conv2d(32, 32, kernel_size=(1, 1), stride=(1, 1))\n",
              "            (unifyheads): Conv2d(32, 32, kernel_size=(1, 1), stride=(1, 1))\n",
              "            (to_out): Sequential(\n",
              "              (0): Linear(in_features=32, out_features=32, bias=True)\n",
              "              (1): Dropout(p=0.0, inplace=False)\n",
              "            )\n",
              "            (out1): Flatten(start_dim=1, end_dim=2)\n",
              "          )\n",
              "        )\n",
              "        (1): PreNorm(\n",
              "          (norm): LayerNorm((32,), eps=1e-05, elementwise_affine=True)\n",
              "          (fn): FeedForward(\n",
              "            (net): Sequential(\n",
              "              (0): Linear(in_features=32, out_features=32, bias=True)\n",
              "              (1): GELU(approximate='none')\n",
              "              (2): Dropout(p=0.0, inplace=False)\n",
              "              (3): Linear(in_features=32, out_features=32, bias=True)\n",
              "              (4): Dropout(p=0.0, inplace=False)\n",
              "            )\n",
              "          )\n",
              "        )\n",
              "      )\n",
              "      (2): ModuleList(\n",
              "        (0): PreNorm(\n",
              "          (norm): LayerNorm((32,), eps=1e-05, elementwise_affine=True)\n",
              "          (fn): Attention(\n",
              "            (attend): Softmax(dim=-1)\n",
              "            (to_keys): Conv2d(32, 32, kernel_size=(1, 1), stride=(1, 1))\n",
              "            (to_queries): Conv2d(32, 32, kernel_size=(1, 1), stride=(1, 1))\n",
              "            (to_values): Conv2d(32, 32, kernel_size=(1, 1), stride=(1, 1))\n",
              "            (unifyheads): Conv2d(32, 32, kernel_size=(1, 1), stride=(1, 1))\n",
              "            (to_out): Sequential(\n",
              "              (0): Linear(in_features=32, out_features=32, bias=True)\n",
              "              (1): Dropout(p=0.0, inplace=False)\n",
              "            )\n",
              "            (out1): Flatten(start_dim=1, end_dim=2)\n",
              "          )\n",
              "        )\n",
              "        (1): PreNorm(\n",
              "          (norm): LayerNorm((32,), eps=1e-05, elementwise_affine=True)\n",
              "          (fn): FeedForward(\n",
              "            (net): Sequential(\n",
              "              (0): Linear(in_features=32, out_features=32, bias=True)\n",
              "              (1): GELU(approximate='none')\n",
              "              (2): Dropout(p=0.0, inplace=False)\n",
              "              (3): Linear(in_features=32, out_features=32, bias=True)\n",
              "              (4): Dropout(p=0.0, inplace=False)\n",
              "            )\n",
              "          )\n",
              "        )\n",
              "      )\n",
              "      (3): ModuleList(\n",
              "        (0): PreNorm(\n",
              "          (norm): LayerNorm((32,), eps=1e-05, elementwise_affine=True)\n",
              "          (fn): Attention(\n",
              "            (attend): Softmax(dim=-1)\n",
              "            (to_keys): Conv2d(32, 32, kernel_size=(1, 1), stride=(1, 1))\n",
              "            (to_queries): Conv2d(32, 32, kernel_size=(1, 1), stride=(1, 1))\n",
              "            (to_values): Conv2d(32, 32, kernel_size=(1, 1), stride=(1, 1))\n",
              "            (unifyheads): Conv2d(32, 32, kernel_size=(1, 1), stride=(1, 1))\n",
              "            (to_out): Sequential(\n",
              "              (0): Linear(in_features=32, out_features=32, bias=True)\n",
              "              (1): Dropout(p=0.0, inplace=False)\n",
              "            )\n",
              "            (out1): Flatten(start_dim=1, end_dim=2)\n",
              "          )\n",
              "        )\n",
              "        (1): PreNorm(\n",
              "          (norm): LayerNorm((32,), eps=1e-05, elementwise_affine=True)\n",
              "          (fn): FeedForward(\n",
              "            (net): Sequential(\n",
              "              (0): Linear(in_features=32, out_features=32, bias=True)\n",
              "              (1): GELU(approximate='none')\n",
              "              (2): Dropout(p=0.0, inplace=False)\n",
              "              (3): Linear(in_features=32, out_features=32, bias=True)\n",
              "              (4): Dropout(p=0.0, inplace=False)\n",
              "            )\n",
              "          )\n",
              "        )\n",
              "      )\n",
              "    )\n",
              "  )\n",
              "  (to_latent): Identity()\n",
              "  (mlp_head): Sequential(\n",
              "    (0): LayerNorm((32,), eps=1e-05, elementwise_affine=True)\n",
              "    (1): Linear(in_features=32, out_features=32, bias=True)\n",
              "  )\n",
              "  (classifier): Sequential(\n",
              "    (0): Linear(in_features=32, out_features=10, bias=True)\n",
              "  )\n",
              ")"
            ]
          },
          "metadata": {},
          "execution_count": 9
        }
      ]
    },
    {
      "cell_type": "code",
      "source": [
        "print(\"Number of parameters: {:,}\".format(sum(p.numel() for p in model.parameters())))"
      ],
      "metadata": {
        "colab": {
          "base_uri": "https://localhost:8080/"
        },
        "id": "S8ujXSpBhUhP",
        "outputId": "84ef4544-1e6f-41ee-d905-dcb478f64a93"
      },
      "execution_count": 10,
      "outputs": [
        {
          "output_type": "stream",
          "name": "stdout",
          "text": [
            "Number of parameters: 48,810\n"
          ]
        }
      ]
    },
    {
      "cell_type": "code",
      "source": [
        "IMAGE_SIZE = 32\n",
        "\n",
        "NUM_CLASSES = 10\n",
        "NUM_WORKERS = 8\n",
        "BATCH_SIZE = 128\n",
        "EPOCHS = 25\n",
        "\n",
        "LEARNING_RATE = 1e-3\n",
        "WEIGHT_DECAY = 1e-1\n",
        "\n",
        "cifar10_mean = (0.4914, 0.4822, 0.4465)\n",
        "cifar10_std = (0.2471, 0.2435, 0.2616)\n",
        "\n",
        "train_transform = transforms.Compose([\n",
        "    transforms.RandomResizedCrop(32, scale=(0.75, 1.0), ratio=(1.0, 1.0)),\n",
        "    transforms.RandomHorizontalFlip(p=0.5),\n",
        "    transforms.RandAugment(num_ops=1, magnitude=8),\n",
        "    transforms.ColorJitter(0.1, 0.1, 0.1),\n",
        "    transforms.ToTensor(),\n",
        "    transforms.Normalize(cifar10_mean, cifar10_std),\n",
        "    transforms.RandomErasing(p=0.25)\n",
        "])\n",
        "\n",
        "test_transform = transforms.Compose([\n",
        "    transforms.ToTensor(),\n",
        "    transforms.Normalize(cifar10_mean, cifar10_std)\n",
        "])\n",
        "\n",
        "trainset = torchvision.datasets.CIFAR10(root='./data', train=True,\n",
        "                                        download=True, transform=train_transform)\n",
        "trainloader = torch.utils.data.DataLoader(trainset, batch_size=BATCH_SIZE,\n",
        "                                          shuffle=True, num_workers=4)\n",
        "\n",
        "testset = torchvision.datasets.CIFAR10(root='./data', train=False,\n",
        "                                       download=True, transform=test_transform)\n",
        "testloader = torch.utils.data.DataLoader(testset, batch_size=64,\n",
        "                                         shuffle=False, num_workers=4)\n"
      ],
      "metadata": {
        "colab": {
          "base_uri": "https://localhost:8080/",
          "height": 156,
          "referenced_widgets": [
            "c68eac62502e4dbd83488696483e1a98",
            "a4a33a5845ca44f198ff6d7f125fc02a",
            "3414f4d18fe144f38c4fdcbc84db99f4",
            "d12fda45b9af4a8c9d394c0573649d22",
            "64d6acfbfdfb4c4b957c91cefd51edd2",
            "423f858138414873bd00a49a76be6e9f",
            "64552ee154f646ff902b174bf853fb6b",
            "b41f0502334849409a697f8450dafeca",
            "6748989a80044555958d0859887e5862",
            "c070fac23ff642d8b43524faad874b4d",
            "fa1a566b3a624ad9b076eb7c0b831f6c"
          ]
        },
        "id": "QLliAfxbjc1z",
        "outputId": "13515d0f-78fe-4328-b5bf-774ba4285856"
      },
      "execution_count": 11,
      "outputs": [
        {
          "output_type": "stream",
          "name": "stdout",
          "text": [
            "Downloading https://www.cs.toronto.edu/~kriz/cifar-10-python.tar.gz to ./data/cifar-10-python.tar.gz\n"
          ]
        },
        {
          "output_type": "display_data",
          "data": {
            "text/plain": [
              "  0%|          | 0/170498071 [00:00<?, ?it/s]"
            ],
            "application/vnd.jupyter.widget-view+json": {
              "version_major": 2,
              "version_minor": 0,
              "model_id": "c68eac62502e4dbd83488696483e1a98"
            }
          },
          "metadata": {}
        },
        {
          "output_type": "stream",
          "name": "stdout",
          "text": [
            "Extracting ./data/cifar-10-python.tar.gz to ./data\n"
          ]
        },
        {
          "output_type": "stream",
          "name": "stderr",
          "text": [
            "/usr/local/lib/python3.8/dist-packages/torch/utils/data/dataloader.py:554: UserWarning: This DataLoader will create 4 worker processes in total. Our suggested max number of worker in current system is 2, which is smaller than what this DataLoader is going to create. Please be aware that excessive worker creation might get DataLoader running slow or even freeze, lower the worker number to avoid potential slowness/freeze if necessary.\n",
            "  warnings.warn(_create_warning_msg(\n"
          ]
        },
        {
          "output_type": "stream",
          "name": "stdout",
          "text": [
            "Files already downloaded and verified\n"
          ]
        }
      ]
    },
    {
      "cell_type": "code",
      "source": [
        "import time\n",
        "\n",
        "clip_norm = True\n",
        "lr_schedule = lambda t: np.interp([t], [0, EPOCHS*2//5, EPOCHS*4//5, EPOCHS], \n",
        "                                  [0, 0.01, 0.01/20.0, 0])[0]\n",
        "\n",
        "model = nn.DataParallel(model, device_ids=[0]).cuda()\n",
        "opt = optim.AdamW(model.parameters(), lr=0.01, weight_decay=0.01)\n",
        "criterion = nn.CrossEntropyLoss()\n",
        "scaler = torch.cuda.amp.GradScaler()\n",
        "\n",
        "for epoch in range(EPOCHS):\n",
        "    start = time.time()\n",
        "    train_loss, train_acc, n = 0, 0, 0\n",
        "    for i, (X, y) in enumerate(trainloader):\n",
        "        model.train()\n",
        "        X, y = X.cuda(), y.cuda()\n",
        "\n",
        "        lr = lr_schedule(epoch + (i + 1)/len(trainloader))\n",
        "        opt.param_groups[0].update(lr=lr)\n",
        "\n",
        "        opt.zero_grad()\n",
        "        with torch.cuda.amp.autocast():\n",
        "            output = model(X)\n",
        "            loss = criterion(output, y)\n",
        "\n",
        "        scaler.scale(loss).backward()\n",
        "        if clip_norm:\n",
        "            scaler.unscale_(opt)\n",
        "            nn.utils.clip_grad_norm_(model.parameters(), 1.0)\n",
        "        scaler.step(opt)\n",
        "        scaler.update()\n",
        "        \n",
        "        train_loss += loss.item() * y.size(0)\n",
        "        train_acc += (output.max(1)[1] == y).sum().item()\n",
        "        n += y.size(0)\n",
        "        \n",
        "    model.eval()\n",
        "    test_acc, m = 0, 0\n",
        "    with torch.no_grad():\n",
        "        for i, (X, y) in enumerate(testloader):\n",
        "            X, y = X.cuda(), y.cuda()\n",
        "            with torch.cuda.amp.autocast():\n",
        "                output = model(X)\n",
        "            test_acc += (output.max(1)[1] == y).sum().item()\n",
        "            m += y.size(0)\n",
        "\n",
        "    print(f'ViT: Epoch: {epoch} | Train Acc: {train_acc/n:.4f}, Test Acc: {test_acc/m:.4f}, Time: {time.time() - start:.1f}, lr: {lr:.6f}')\n"
      ],
      "metadata": {
        "colab": {
          "base_uri": "https://localhost:8080/"
        },
        "id": "BDk6qVKtjeIO",
        "outputId": "14432426-c245-4123-919e-e39a363132e5"
      },
      "execution_count": 13,
      "outputs": [
        {
          "output_type": "stream",
          "name": "stdout",
          "text": [
            "ViT: Epoch: 0 | Train Acc: 0.0983, Test Acc: 0.1044, Time: 79.4, lr: 0.001000\n",
            "ViT: Epoch: 1 | Train Acc: 0.1016, Test Acc: 0.0998, Time: 82.6, lr: 0.002000\n",
            "ViT: Epoch: 2 | Train Acc: 0.0992, Test Acc: 0.0991, Time: 81.6, lr: 0.003000\n",
            "ViT: Epoch: 3 | Train Acc: 0.0985, Test Acc: 0.1006, Time: 82.2, lr: 0.004000\n",
            "ViT: Epoch: 4 | Train Acc: 0.0977, Test Acc: 0.0988, Time: 81.7, lr: 0.005000\n",
            "ViT: Epoch: 5 | Train Acc: 0.0999, Test Acc: 0.1001, Time: 82.6, lr: 0.006000\n",
            "ViT: Epoch: 6 | Train Acc: 0.0994, Test Acc: 0.1008, Time: 81.0, lr: 0.007000\n",
            "ViT: Epoch: 7 | Train Acc: 0.0981, Test Acc: 0.1000, Time: 81.9, lr: 0.008000\n",
            "ViT: Epoch: 8 | Train Acc: 0.1004, Test Acc: 0.0996, Time: 82.7, lr: 0.009000\n",
            "ViT: Epoch: 9 | Train Acc: 0.1016, Test Acc: 0.1000, Time: 81.7, lr: 0.010000\n",
            "ViT: Epoch: 10 | Train Acc: 0.0977, Test Acc: 0.1000, Time: 82.0, lr: 0.009050\n",
            "ViT: Epoch: 11 | Train Acc: 0.0987, Test Acc: 0.1000, Time: 82.4, lr: 0.008100\n",
            "ViT: Epoch: 12 | Train Acc: 0.0991, Test Acc: 0.1000, Time: 81.7, lr: 0.007150\n",
            "ViT: Epoch: 13 | Train Acc: 0.0991, Test Acc: 0.1000, Time: 82.5, lr: 0.006200\n",
            "ViT: Epoch: 14 | Train Acc: 0.1015, Test Acc: 0.1000, Time: 82.1, lr: 0.005250\n",
            "ViT: Epoch: 15 | Train Acc: 0.0993, Test Acc: 0.1000, Time: 82.9, lr: 0.004300\n",
            "ViT: Epoch: 16 | Train Acc: 0.0993, Test Acc: 0.1000, Time: 81.7, lr: 0.003350\n",
            "ViT: Epoch: 17 | Train Acc: 0.0988, Test Acc: 0.1000, Time: 81.6, lr: 0.002400\n",
            "ViT: Epoch: 18 | Train Acc: 0.0979, Test Acc: 0.1000, Time: 83.7, lr: 0.001450\n",
            "ViT: Epoch: 19 | Train Acc: 0.0979, Test Acc: 0.0994, Time: 82.4, lr: 0.000500\n",
            "ViT: Epoch: 20 | Train Acc: 0.0963, Test Acc: 0.0995, Time: 82.4, lr: 0.000400\n",
            "ViT: Epoch: 21 | Train Acc: 0.0992, Test Acc: 0.1015, Time: 85.1, lr: 0.000300\n",
            "ViT: Epoch: 22 | Train Acc: 0.0969, Test Acc: 0.1016, Time: 82.6, lr: 0.000200\n",
            "ViT: Epoch: 23 | Train Acc: 0.0964, Test Acc: 0.1034, Time: 82.1, lr: 0.000100\n",
            "ViT: Epoch: 24 | Train Acc: 0.0993, Test Acc: 0.1002, Time: 82.1, lr: 0.000000\n"
          ]
        }
      ]
    }
  ]
}