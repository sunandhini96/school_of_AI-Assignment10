{
  "cells": [
    {
      "cell_type": "markdown",
      "metadata": {
        "id": "view-in-github",
        "colab_type": "text"
      },
      "source": [
        "<a href=\"https://colab.research.google.com/github/sunandhini96/school_of_AI-Assignment10/blob/main/sunandini_assignment_10.ipynb\" target=\"_parent\"><img src=\"https://colab.research.google.com/assets/colab-badge.svg\" alt=\"Open In Colab\"/></a>"
      ]
    },
    {
      "cell_type": "markdown",
      "source": [
        "## clone the github repo"
      ],
      "metadata": {
        "id": "WSasMzH2N-M2"
      }
    },
    {
      "cell_type": "code",
      "source": [
        "!git clone https://github.com/sunandhini96/Main_Models.git"
      ],
      "metadata": {
        "colab": {
          "base_uri": "https://localhost:8080/"
        },
        "id": "XF8THL6ZNvlq",
        "outputId": "460b19c8-fb0e-44d7-8568-d8ce03c384bc"
      },
      "execution_count": 1,
      "outputs": [
        {
          "output_type": "stream",
          "name": "stdout",
          "text": [
            "Cloning into 'Main_Models'...\n",
            "remote: Enumerating objects: 294, done.\u001b[K\n",
            "remote: Counting objects: 100% (186/186), done.\u001b[K\n",
            "remote: Compressing objects: 100% (113/113), done.\u001b[K\n",
            "remote: Total 294 (delta 95), reused 135 (delta 73), pack-reused 108\u001b[K\n",
            "Receiving objects: 100% (294/294), 87.92 KiB | 10.99 MiB/s, done.\n",
            "Resolving deltas: 100% (135/135), done.\n"
          ]
        }
      ]
    },
    {
      "cell_type": "code",
      "source": [
        "cd /content/Main_Models"
      ],
      "metadata": {
        "colab": {
          "base_uri": "https://localhost:8080/"
        },
        "id": "yFEcHTsiNwZH",
        "outputId": "9630801f-026e-4f84-8b80-76fdffb28d3d"
      },
      "execution_count": 2,
      "outputs": [
        {
          "output_type": "stream",
          "name": "stdout",
          "text": [
            "/content/Main_Models\n"
          ]
        }
      ]
    },
    {
      "cell_type": "code",
      "source": [
        "!pip install einops\n",
        "!pip install torchinfo"
      ],
      "metadata": {
        "colab": {
          "base_uri": "https://localhost:8080/"
        },
        "id": "THJfGMcQNwNM",
        "outputId": "9f651897-c575-4066-d30e-d30ab0c1a429"
      },
      "execution_count": 3,
      "outputs": [
        {
          "output_type": "stream",
          "name": "stdout",
          "text": [
            "Looking in indexes: https://pypi.org/simple, https://us-python.pkg.dev/colab-wheels/public/simple/\n",
            "Collecting einops\n",
            "  Downloading einops-0.6.0-py3-none-any.whl (41 kB)\n",
            "\u001b[2K     \u001b[90m━━━━━━━━━━━━━━━━━━━━━━━━━━━━━━━━━━━━━━━━\u001b[0m \u001b[32m41.6/41.6 KB\u001b[0m \u001b[31m2.5 MB/s\u001b[0m eta \u001b[36m0:00:00\u001b[0m\n",
            "\u001b[?25hInstalling collected packages: einops\n",
            "Successfully installed einops-0.6.0\n",
            "Looking in indexes: https://pypi.org/simple, https://us-python.pkg.dev/colab-wheels/public/simple/\n",
            "Collecting torchinfo\n",
            "  Downloading torchinfo-1.7.2-py3-none-any.whl (22 kB)\n",
            "Installing collected packages: torchinfo\n",
            "Successfully installed torchinfo-1.7.2\n"
          ]
        }
      ]
    },
    {
      "cell_type": "code",
      "source": [
        "from Models import *\n",
        "from Models.vit import *"
      ],
      "metadata": {
        "id": "ix_kCOiePaRp"
      },
      "execution_count": 4,
      "outputs": []
    },
    {
      "cell_type": "code",
      "execution_count": 5,
      "metadata": {
        "id": "i8QUbBKTNeSM"
      },
      "outputs": [],
      "source": [
        "import numpy as np\n",
        "from collections import defaultdict\n",
        "import matplotlib.pyplot as plt\n",
        "\n",
        "import torch\n",
        "import torch.nn as nn\n",
        "import torch.optim as optim\n",
        "import torch.nn.functional as F\n",
        "from torchvision import datasets, transforms\n",
        "import torchvision"
      ]
    },
    {
      "cell_type": "code",
      "execution_count": 6,
      "metadata": {
        "id": "VVZK78osNeSP"
      },
      "outputs": [],
      "source": [
        "DATA_DIR='./data'"
      ]
    },
    {
      "cell_type": "code",
      "execution_count": 7,
      "metadata": {
        "colab": {
          "base_uri": "https://localhost:8080/"
        },
        "id": "iXnn9G8dNeSP",
        "outputId": "ddc45eb3-a1d1-48ca-fa49-b5febd82b62f"
      },
      "outputs": [
        {
          "output_type": "stream",
          "name": "stdout",
          "text": [
            "device: cuda\n"
          ]
        }
      ],
      "source": [
        "DEVICE = torch.device(\"cuda\") if torch.cuda.is_available() else torch.device(\"cpu\")\n",
        "print(\"device:\", DEVICE)"
      ]
    },
    {
      "cell_type": "markdown",
      "source": [
        "## summary of all classes"
      ],
      "metadata": {
        "id": "-4rTdS1LOQ0b"
      }
    },
    {
      "cell_type": "markdown",
      "source": [
        "## Attention class"
      ],
      "metadata": {
        "id": "JD_CxLNhOUml"
      }
    },
    {
      "cell_type": "code",
      "source": [
        "summary(model=Attention(dim=32,shape=(16,16), heads = 4, dim_head = 8, dropout = 0.),input_size=(128,257,32),col_names=[\"input_size\", \"output_size\", \"num_params\", \"trainable\"],\n",
        "        col_width=20,\n",
        "        row_settings=[\"var_names\"])"
      ],
      "metadata": {
        "colab": {
          "base_uri": "https://localhost:8080/"
        },
        "id": "USM2P2q_FhJb",
        "outputId": "8417cd26-5de9-4f70-fc24-1532b25d5bd4"
      },
      "execution_count": 8,
      "outputs": [
        {
          "output_type": "execute_result",
          "data": {
            "text/plain": [
              "========================================================================================================================\n",
              "Layer (type (var_name))                  Input Shape          Output Shape         Param #              Trainable\n",
              "========================================================================================================================\n",
              "Attention (Attention)                    [128, 257, 32]       [128, 257, 32]       --                   True\n",
              "├─Conv1d (to_keys)                       [128, 32, 257]       [128, 32, 257]       1,024                True\n",
              "├─Conv1d (to_values)                     [128, 32, 257]       [128, 32, 257]       1,024                True\n",
              "├─Conv1d (to_queries)                    [128, 32, 257]       [128, 32, 257]       1,024                True\n",
              "├─Softmax (attend)                       [128, 4, 257, 257]   [128, 4, 257, 257]   --                   --\n",
              "├─Sequential (to_out)                    [128, 257, 32]       [128, 257, 32]       --                   True\n",
              "│    └─Linear (0)                        [128, 257, 32]       [128, 257, 32]       1,056                True\n",
              "│    └─Dropout (1)                       [128, 257, 32]       [128, 257, 32]       --                   --\n",
              "========================================================================================================================\n",
              "Total params: 4,128\n",
              "Trainable params: 4,128\n",
              "Non-trainable params: 0\n",
              "Total mult-adds (M): 101.19\n",
              "========================================================================================================================\n",
              "Input size (MB): 4.21\n",
              "Forward/backward pass size (MB): 33.69\n",
              "Params size (MB): 0.02\n",
              "Estimated Total Size (MB): 37.91\n",
              "========================================================================================================================"
            ]
          },
          "metadata": {},
          "execution_count": 8
        }
      ]
    },
    {
      "cell_type": "markdown",
      "source": [
        "##  Summary of feed forward class"
      ],
      "metadata": {
        "id": "bkRhOsU6OcI_"
      }
    },
    {
      "cell_type": "code",
      "source": [
        "summary(model=FeedForward(dim=32,hidden_dim=32),input_size=(128,257,32),col_names=[\"input_size\", \"output_size\", \"num_params\", \"trainable\"],\n",
        "        col_width=20,\n",
        "        row_settings=[\"var_names\"])"
      ],
      "metadata": {
        "colab": {
          "base_uri": "https://localhost:8080/"
        },
        "id": "Uo9_VU9hoGXO",
        "outputId": "3c56af2c-05fd-455b-a070-83c09655507c"
      },
      "execution_count": 9,
      "outputs": [
        {
          "output_type": "execute_result",
          "data": {
            "text/plain": [
              "========================================================================================================================\n",
              "Layer (type (var_name))                  Input Shape          Output Shape         Param #              Trainable\n",
              "========================================================================================================================\n",
              "FeedForward (FeedForward)                [128, 257, 32]       [128, 257, 32]       --                   True\n",
              "├─Sequential (net)                       [128, 32, 257]       [128, 32, 257]       --                   True\n",
              "│    └─Conv1d (0)                        [128, 32, 257]       [128, 32, 257]       1,056                True\n",
              "│    └─GELU (1)                          [128, 32, 257]       [128, 32, 257]       --                   --\n",
              "│    └─Dropout (2)                       [128, 32, 257]       [128, 32, 257]       --                   --\n",
              "│    └─Conv1d (3)                        [128, 32, 257]       [128, 32, 257]       1,056                True\n",
              "│    └─Dropout (4)                       [128, 32, 257]       [128, 32, 257]       --                   --\n",
              "========================================================================================================================\n",
              "Total params: 2,112\n",
              "Trainable params: 2,112\n",
              "Non-trainable params: 0\n",
              "Total mult-adds (M): 69.48\n",
              "========================================================================================================================\n",
              "Input size (MB): 4.21\n",
              "Forward/backward pass size (MB): 16.84\n",
              "Params size (MB): 0.01\n",
              "Estimated Total Size (MB): 21.06\n",
              "========================================================================================================================"
            ]
          },
          "metadata": {},
          "execution_count": 9
        }
      ]
    },
    {
      "cell_type": "markdown",
      "source": [
        "## Summary of Transformer block"
      ],
      "metadata": {
        "id": "7J2bQr0sOn9h"
      }
    },
    {
      "cell_type": "code",
      "source": [
        "summary(model=Transformer(dim=32,depth=4, heads=4, dim_head=8, mlp_dim=128,shape=(16,16), dropout = 0.),input_size=(128,257,32),col_names=[\"input_size\", \"output_size\", \"num_params\", \"trainable\"],\n",
        "        col_width=20,\n",
        "        row_settings=[\"var_names\"])"
      ],
      "metadata": {
        "colab": {
          "base_uri": "https://localhost:8080/"
        },
        "id": "oRnzPpPfsxWi",
        "outputId": "9d41a271-85b0-4d08-8b27-b6a3d29ab860"
      },
      "execution_count": 10,
      "outputs": [
        {
          "output_type": "execute_result",
          "data": {
            "text/plain": [
              "=============================================================================================================================\n",
              "Layer (type (var_name))                       Input Shape          Output Shape         Param #              Trainable\n",
              "=============================================================================================================================\n",
              "Transformer (Transformer)                     [128, 257, 32]       [128, 257, 32]       --                   True\n",
              "├─ModuleList (layers)                         --                   --                   --                   True\n",
              "│    └─ModuleList (0)                         --                   --                   --                   True\n",
              "│    │    └─PreNorm (0)                       [128, 257, 32]       [128, 257, 32]       4,192                True\n",
              "│    │    └─PreNorm (1)                       [128, 257, 32]       [128, 257, 32]       8,416                True\n",
              "│    └─ModuleList (1)                         --                   --                   --                   True\n",
              "│    │    └─PreNorm (0)                       [128, 257, 32]       [128, 257, 32]       4,192                True\n",
              "│    │    └─PreNorm (1)                       [128, 257, 32]       [128, 257, 32]       8,416                True\n",
              "│    └─ModuleList (2)                         --                   --                   --                   True\n",
              "│    │    └─PreNorm (0)                       [128, 257, 32]       [128, 257, 32]       4,192                True\n",
              "│    │    └─PreNorm (1)                       [128, 257, 32]       [128, 257, 32]       8,416                True\n",
              "│    └─ModuleList (3)                         --                   --                   --                   True\n",
              "│    │    └─PreNorm (0)                       [128, 257, 32]       [128, 257, 32]       4,192                True\n",
              "│    │    └─PreNorm (1)                       [128, 257, 32]       [128, 257, 32]       8,416                True\n",
              "=============================================================================================================================\n",
              "Total params: 50,432\n",
              "Trainable params: 50,432\n",
              "Non-trainable params: 0\n",
              "Total mult-adds (G): 1.50\n",
              "=============================================================================================================================\n",
              "Input size (MB): 4.21\n",
              "Forward/backward pass size (MB): 370.54\n",
              "Params size (MB): 0.20\n",
              "Estimated Total Size (MB): 374.95\n",
              "============================================================================================================================="
            ]
          },
          "metadata": {},
          "execution_count": 10
        }
      ]
    },
    {
      "cell_type": "code",
      "source": [
        "NUM_CLASSES, IMAGE_SIZE = 10, 32\n",
        "patch_size=2\n",
        "mlp_dim=128\n",
        "dim=32\n",
        "depth=4\n",
        "heads=4\n",
        "\n",
        "model = ViT(image_size=IMAGE_SIZE,patch_size=2,num_classes=10,dim=32, depth=4, heads=4, mlp_dim=128, pool = 'cls', channels = 3, dim_head = 8, dropout = 0., emb_dropout = 0.)"
      ],
      "metadata": {
        "id": "6RFTyssOmcmG"
      },
      "execution_count": 11,
      "outputs": []
    },
    {
      "cell_type": "code",
      "execution_count": 12,
      "metadata": {
        "colab": {
          "base_uri": "https://localhost:8080/"
        },
        "id": "Df_W3N9uNeSW",
        "outputId": "26ac306c-8aff-420a-dbcb-427cab8ac03d"
      },
      "outputs": [
        {
          "output_type": "execute_result",
          "data": {
            "text/plain": [
              "ViT(\n",
              "  (to_patch_embedding): Sequential(\n",
              "    (0): Conv2d(3, 12, kernel_size=(3, 3), stride=(1, 1), padding=(1, 1))\n",
              "    (1): GELU(approximate='none')\n",
              "    (2): Conv2d(12, 32, kernel_size=(2, 2), stride=(2, 2))\n",
              "    (3): Flatten(start_dim=2, end_dim=3)\n",
              "  )\n",
              "  (dropout): Dropout(p=0.0, inplace=False)\n",
              "  (transformer): Transformer(\n",
              "    (layers): ModuleList(\n",
              "      (0): ModuleList(\n",
              "        (0): PreNorm(\n",
              "          (norm): LayerNorm((32,), eps=1e-05, elementwise_affine=True)\n",
              "          (fn): Attention(\n",
              "            (attend): Softmax(dim=-1)\n",
              "            (to_keys): Conv1d(32, 32, kernel_size=(1,), stride=(1,), bias=False)\n",
              "            (to_queries): Conv1d(32, 32, kernel_size=(1,), stride=(1,), bias=False)\n",
              "            (to_values): Conv1d(32, 32, kernel_size=(1,), stride=(1,), bias=False)\n",
              "            (to_out): Sequential(\n",
              "              (0): Linear(in_features=32, out_features=32, bias=True)\n",
              "              (1): Dropout(p=0.0, inplace=False)\n",
              "            )\n",
              "            (out1): Flatten(start_dim=1, end_dim=2)\n",
              "          )\n",
              "        )\n",
              "        (1): PreNorm(\n",
              "          (norm): LayerNorm((32,), eps=1e-05, elementwise_affine=True)\n",
              "          (fn): FeedForward(\n",
              "            (net): Sequential(\n",
              "              (0): Conv1d(32, 128, kernel_size=(1,), stride=(1,))\n",
              "              (1): GELU(approximate='none')\n",
              "              (2): Dropout(p=0.0, inplace=False)\n",
              "              (3): Conv1d(128, 32, kernel_size=(1,), stride=(1,))\n",
              "              (4): Dropout(p=0.0, inplace=False)\n",
              "            )\n",
              "          )\n",
              "        )\n",
              "      )\n",
              "      (1): ModuleList(\n",
              "        (0): PreNorm(\n",
              "          (norm): LayerNorm((32,), eps=1e-05, elementwise_affine=True)\n",
              "          (fn): Attention(\n",
              "            (attend): Softmax(dim=-1)\n",
              "            (to_keys): Conv1d(32, 32, kernel_size=(1,), stride=(1,), bias=False)\n",
              "            (to_queries): Conv1d(32, 32, kernel_size=(1,), stride=(1,), bias=False)\n",
              "            (to_values): Conv1d(32, 32, kernel_size=(1,), stride=(1,), bias=False)\n",
              "            (to_out): Sequential(\n",
              "              (0): Linear(in_features=32, out_features=32, bias=True)\n",
              "              (1): Dropout(p=0.0, inplace=False)\n",
              "            )\n",
              "            (out1): Flatten(start_dim=1, end_dim=2)\n",
              "          )\n",
              "        )\n",
              "        (1): PreNorm(\n",
              "          (norm): LayerNorm((32,), eps=1e-05, elementwise_affine=True)\n",
              "          (fn): FeedForward(\n",
              "            (net): Sequential(\n",
              "              (0): Conv1d(32, 128, kernel_size=(1,), stride=(1,))\n",
              "              (1): GELU(approximate='none')\n",
              "              (2): Dropout(p=0.0, inplace=False)\n",
              "              (3): Conv1d(128, 32, kernel_size=(1,), stride=(1,))\n",
              "              (4): Dropout(p=0.0, inplace=False)\n",
              "            )\n",
              "          )\n",
              "        )\n",
              "      )\n",
              "      (2): ModuleList(\n",
              "        (0): PreNorm(\n",
              "          (norm): LayerNorm((32,), eps=1e-05, elementwise_affine=True)\n",
              "          (fn): Attention(\n",
              "            (attend): Softmax(dim=-1)\n",
              "            (to_keys): Conv1d(32, 32, kernel_size=(1,), stride=(1,), bias=False)\n",
              "            (to_queries): Conv1d(32, 32, kernel_size=(1,), stride=(1,), bias=False)\n",
              "            (to_values): Conv1d(32, 32, kernel_size=(1,), stride=(1,), bias=False)\n",
              "            (to_out): Sequential(\n",
              "              (0): Linear(in_features=32, out_features=32, bias=True)\n",
              "              (1): Dropout(p=0.0, inplace=False)\n",
              "            )\n",
              "            (out1): Flatten(start_dim=1, end_dim=2)\n",
              "          )\n",
              "        )\n",
              "        (1): PreNorm(\n",
              "          (norm): LayerNorm((32,), eps=1e-05, elementwise_affine=True)\n",
              "          (fn): FeedForward(\n",
              "            (net): Sequential(\n",
              "              (0): Conv1d(32, 128, kernel_size=(1,), stride=(1,))\n",
              "              (1): GELU(approximate='none')\n",
              "              (2): Dropout(p=0.0, inplace=False)\n",
              "              (3): Conv1d(128, 32, kernel_size=(1,), stride=(1,))\n",
              "              (4): Dropout(p=0.0, inplace=False)\n",
              "            )\n",
              "          )\n",
              "        )\n",
              "      )\n",
              "      (3): ModuleList(\n",
              "        (0): PreNorm(\n",
              "          (norm): LayerNorm((32,), eps=1e-05, elementwise_affine=True)\n",
              "          (fn): Attention(\n",
              "            (attend): Softmax(dim=-1)\n",
              "            (to_keys): Conv1d(32, 32, kernel_size=(1,), stride=(1,), bias=False)\n",
              "            (to_queries): Conv1d(32, 32, kernel_size=(1,), stride=(1,), bias=False)\n",
              "            (to_values): Conv1d(32, 32, kernel_size=(1,), stride=(1,), bias=False)\n",
              "            (to_out): Sequential(\n",
              "              (0): Linear(in_features=32, out_features=32, bias=True)\n",
              "              (1): Dropout(p=0.0, inplace=False)\n",
              "            )\n",
              "            (out1): Flatten(start_dim=1, end_dim=2)\n",
              "          )\n",
              "        )\n",
              "        (1): PreNorm(\n",
              "          (norm): LayerNorm((32,), eps=1e-05, elementwise_affine=True)\n",
              "          (fn): FeedForward(\n",
              "            (net): Sequential(\n",
              "              (0): Conv1d(32, 128, kernel_size=(1,), stride=(1,))\n",
              "              (1): GELU(approximate='none')\n",
              "              (2): Dropout(p=0.0, inplace=False)\n",
              "              (3): Conv1d(128, 32, kernel_size=(1,), stride=(1,))\n",
              "              (4): Dropout(p=0.0, inplace=False)\n",
              "            )\n",
              "          )\n",
              "        )\n",
              "      )\n",
              "    )\n",
              "  )\n",
              "  (to_latent): Identity()\n",
              "  (mlp_head): Sequential(\n",
              "    (0): LayerNorm((32,), eps=1e-05, elementwise_affine=True)\n",
              "    (1): Linear(in_features=32, out_features=32, bias=True)\n",
              "  )\n",
              "  (classifier): Sequential(\n",
              "    (0): LayerNorm((32,), eps=1e-05, elementwise_affine=True)\n",
              "    (1): Linear(in_features=32, out_features=10, bias=True)\n",
              "  )\n",
              ")"
            ]
          },
          "metadata": {},
          "execution_count": 12
        }
      ],
      "source": [
        "model.to(DEVICE)"
      ]
    },
    {
      "cell_type": "markdown",
      "source": [
        "## Summary of ViT model"
      ],
      "metadata": {
        "id": "O9sfwF66PnDP"
      }
    },
    {
      "cell_type": "code",
      "source": [
        "# Print a summary using torchinfo (uncomment for actual output)\n",
        "shape=(16,16)\n",
        "summary(model=model, \n",
        "        input_size=(128, 3, 32, 32), # (batch_size, color_channels, height, width)\n",
        "        # col_names=[\"input_size\"], # uncomment for smaller output\n",
        "        col_names=[\"input_size\", \"output_size\", \"num_params\", \"trainable\"],\n",
        "        col_width=20,\n",
        "        row_settings=[\"var_names\"]\n",
        ")"
      ],
      "metadata": {
        "colab": {
          "base_uri": "https://localhost:8080/"
        },
        "id": "_EVj942Ho-hR",
        "outputId": "25ce6a99-37fa-4812-e2de-48c7a235c820"
      },
      "execution_count": 13,
      "outputs": [
        {
          "output_type": "execute_result",
          "data": {
            "text/plain": [
              "==================================================================================================================================\n",
              "Layer (type (var_name))                            Input Shape          Output Shape         Param #              Trainable\n",
              "==================================================================================================================================\n",
              "ViT (ViT)                                          [128, 3, 32, 32]     [128, 10]            --                   True\n",
              "├─Sequential (to_patch_embedding)                  [128, 3, 32, 32]     [128, 32, 256]       --                   True\n",
              "│    └─Conv2d (0)                                  [128, 3, 32, 32]     [128, 12, 32, 32]    336                  True\n",
              "│    └─GELU (1)                                    [128, 12, 32, 32]    [128, 12, 32, 32]    --                   --\n",
              "│    └─Conv2d (2)                                  [128, 12, 32, 32]    [128, 32, 16, 16]    1,568                True\n",
              "│    └─Flatten (3)                                 [128, 32, 16, 16]    [128, 32, 256]       --                   --\n",
              "├─Dropout (dropout)                                [128, 257, 32]       [128, 257, 32]       --                   --\n",
              "├─Transformer (transformer)                        [128, 257, 32]       [128, 257, 32]       --                   True\n",
              "│    └─ModuleList (layers)                         --                   --                   --                   True\n",
              "│    │    └─ModuleList (0)                         --                   --                   12,608               True\n",
              "│    │    └─ModuleList (1)                         --                   --                   12,608               True\n",
              "│    │    └─ModuleList (2)                         --                   --                   12,608               True\n",
              "│    │    └─ModuleList (3)                         --                   --                   12,608               True\n",
              "├─Identity (to_latent)                             [128, 32]            [128, 32]            --                   --\n",
              "├─Sequential (mlp_head)                            [128, 32]            [128, 32]            --                   True\n",
              "│    └─LayerNorm (0)                               [128, 32]            [128, 32]            64                   True\n",
              "│    └─Linear (1)                                  [128, 32]            [128, 32]            1,056                True\n",
              "├─Sequential (classifier)                          [128, 32]            [128, 10]            --                   True\n",
              "│    └─LayerNorm (0)                               [128, 32]            [128, 32]            64                   True\n",
              "│    └─Linear (1)                                  [128, 32]            [128, 10]            330                  True\n",
              "==================================================================================================================================\n",
              "Total params: 53,850\n",
              "Trainable params: 53,850\n",
              "Non-trainable params: 0\n",
              "Total mult-adds (G): 1.60\n",
              "==================================================================================================================================\n",
              "Input size (MB): 1.57\n",
              "Forward/backward pass size (MB): 391.62\n",
              "Params size (MB): 0.22\n",
              "Estimated Total Size (MB): 393.41\n",
              "=================================================================================================================================="
            ]
          },
          "metadata": {},
          "execution_count": 13
        }
      ]
    },
    {
      "cell_type": "code",
      "execution_count": 14,
      "metadata": {
        "id": "ePejsM6iNeSX",
        "colab": {
          "base_uri": "https://localhost:8080/"
        },
        "outputId": "05b83a52-ce9d-4a11-99d2-7e32820dff6d"
      },
      "outputs": [
        {
          "output_type": "stream",
          "name": "stdout",
          "text": [
            "Number of parameters: 53,850\n"
          ]
        }
      ],
      "source": [
        "print(\"Number of parameters: {:,}\".format(sum(p.numel() for p in model.parameters())))"
      ]
    },
    {
      "cell_type": "code",
      "execution_count": 15,
      "metadata": {
        "id": "YzNyNiw5NeSX",
        "colab": {
          "base_uri": "https://localhost:8080/",
          "height": 156,
          "referenced_widgets": [
            "9bc82de559c94bb482eb7c6dab8e19c8",
            "4768ef2a98da46b4b6dc436a695f3556",
            "17a4b1a4ecd04365a8c6cabf4b102369",
            "5fbfef80c1804e299b7172fc79a98115",
            "5363423122614d67aea47075729acd4e",
            "b41211204a7f46f1ac709ff991648f5a",
            "a35e6653123844a1ae9447bc017f3035",
            "db800401a9644535a7ce9229280752ad",
            "d3989684fd124e47835bec132589efdf",
            "9649fbabfeb74a0d9d8114b05601fa14",
            "5a4c90efb2fe46358fd11306d3be35d4"
          ]
        },
        "outputId": "d1e6f7a2-5317-4055-8ffa-f945bb2f6e34"
      },
      "outputs": [
        {
          "output_type": "stream",
          "name": "stdout",
          "text": [
            "Downloading https://www.cs.toronto.edu/~kriz/cifar-10-python.tar.gz to ./data/cifar-10-python.tar.gz\n"
          ]
        },
        {
          "output_type": "display_data",
          "data": {
            "text/plain": [
              "  0%|          | 0/170498071 [00:00<?, ?it/s]"
            ],
            "application/vnd.jupyter.widget-view+json": {
              "version_major": 2,
              "version_minor": 0,
              "model_id": "9bc82de559c94bb482eb7c6dab8e19c8"
            }
          },
          "metadata": {}
        },
        {
          "output_type": "stream",
          "name": "stdout",
          "text": [
            "Extracting ./data/cifar-10-python.tar.gz to ./data\n"
          ]
        },
        {
          "output_type": "stream",
          "name": "stderr",
          "text": [
            "/usr/local/lib/python3.8/dist-packages/torch/utils/data/dataloader.py:554: UserWarning: This DataLoader will create 4 worker processes in total. Our suggested max number of worker in current system is 2, which is smaller than what this DataLoader is going to create. Please be aware that excessive worker creation might get DataLoader running slow or even freeze, lower the worker number to avoid potential slowness/freeze if necessary.\n",
            "  warnings.warn(_create_warning_msg(\n"
          ]
        },
        {
          "output_type": "stream",
          "name": "stdout",
          "text": [
            "Files already downloaded and verified\n"
          ]
        }
      ],
      "source": [
        "IMAGE_SIZE = 32\n",
        "\n",
        "NUM_CLASSES = 10\n",
        "NUM_WORKERS = 8\n",
        "BATCH_SIZE = 128\n",
        "EPOCHS = 25\n",
        "\n",
        "LEARNING_RATE = 1e-3\n",
        "WEIGHT_DECAY = 1e-1\n",
        "\n",
        "cifar10_mean = (0.4914, 0.4822, 0.4465)\n",
        "cifar10_std = (0.2471, 0.2435, 0.2616)\n",
        "\n",
        "train_transform = transforms.Compose([\n",
        "    transforms.RandomResizedCrop(32, scale=(0.75, 1.0), ratio=(1.0, 1.0)),\n",
        "    transforms.RandomHorizontalFlip(p=0.5),\n",
        "    transforms.RandAugment(num_ops=1, magnitude=8),\n",
        "    transforms.ColorJitter(0.1, 0.1, 0.1),\n",
        "    transforms.ToTensor(),\n",
        "    transforms.Normalize(cifar10_mean, cifar10_std),\n",
        "    transforms.RandomErasing(p=0.25)\n",
        "])\n",
        "\n",
        "test_transform = transforms.Compose([\n",
        "    transforms.ToTensor(),\n",
        "    transforms.Normalize(cifar10_mean, cifar10_std)\n",
        "])\n",
        "\n",
        "trainset = torchvision.datasets.CIFAR10(root='./data', train=True,\n",
        "                                        download=True, transform=train_transform)\n",
        "trainloader = torch.utils.data.DataLoader(trainset, batch_size=BATCH_SIZE,\n",
        "                                          shuffle=True, num_workers=4)\n",
        "\n",
        "testset = torchvision.datasets.CIFAR10(root='./data', train=False,\n",
        "                                       download=True, transform=test_transform)\n",
        "testloader = torch.utils.data.DataLoader(testset, batch_size=64,\n",
        "                                         shuffle=False, num_workers=4)\n"
      ]
    },
    {
      "cell_type": "code",
      "execution_count": 17,
      "metadata": {
        "id": "FzQjsTDHNeSX",
        "colab": {
          "base_uri": "https://localhost:8080/"
        },
        "outputId": "afb2c561-202d-43ba-aee2-72e29fe0fa41"
      },
      "outputs": [
        {
          "output_type": "stream",
          "name": "stdout",
          "text": [
            "ViT : Epoch: 0 | Train Acc: 0.1984, Test Acc: 0.3462, Time: 68.7, lr: 0.001000\n",
            "ViT : Epoch: 1 | Train Acc: 0.3463, Test Acc: 0.4460, Time: 80.2, lr: 0.002000\n",
            "ViT : Epoch: 2 | Train Acc: 0.4017, Test Acc: 0.4656, Time: 73.3, lr: 0.003000\n",
            "ViT : Epoch: 3 | Train Acc: 0.4268, Test Acc: 0.4941, Time: 74.5, lr: 0.004000\n",
            "ViT : Epoch: 4 | Train Acc: 0.4479, Test Acc: 0.5144, Time: 69.6, lr: 0.005000\n",
            "ViT : Epoch: 5 | Train Acc: 0.4737, Test Acc: 0.5311, Time: 71.1, lr: 0.006000\n",
            "ViT : Epoch: 6 | Train Acc: 0.4909, Test Acc: 0.5647, Time: 70.8, lr: 0.007000\n",
            "ViT : Epoch: 7 | Train Acc: 0.5125, Test Acc: 0.5602, Time: 69.4, lr: 0.008000\n",
            "ViT : Epoch: 8 | Train Acc: 0.5286, Test Acc: 0.6031, Time: 69.5, lr: 0.009000\n",
            "ViT : Epoch: 9 | Train Acc: 0.5397, Test Acc: 0.5763, Time: 71.0, lr: 0.010000\n",
            "ViT : Epoch: 10 | Train Acc: 0.5510, Test Acc: 0.6205, Time: 70.0, lr: 0.009050\n",
            "ViT : Epoch: 11 | Train Acc: 0.5711, Test Acc: 0.6159, Time: 69.4, lr: 0.008100\n",
            "ViT : Epoch: 12 | Train Acc: 0.5857, Test Acc: 0.6434, Time: 69.5, lr: 0.007150\n",
            "ViT : Epoch: 13 | Train Acc: 0.5999, Test Acc: 0.6536, Time: 72.3, lr: 0.006200\n",
            "ViT : Epoch: 14 | Train Acc: 0.6104, Test Acc: 0.6614, Time: 69.5, lr: 0.005250\n",
            "ViT : Epoch: 15 | Train Acc: 0.6257, Test Acc: 0.6689, Time: 69.4, lr: 0.004300\n",
            "ViT : Epoch: 16 | Train Acc: 0.6389, Test Acc: 0.6870, Time: 72.1, lr: 0.003350\n",
            "ViT : Epoch: 17 | Train Acc: 0.6504, Test Acc: 0.6859, Time: 68.8, lr: 0.002400\n",
            "ViT : Epoch: 18 | Train Acc: 0.6635, Test Acc: 0.6943, Time: 69.7, lr: 0.001450\n",
            "ViT : Epoch: 19 | Train Acc: 0.6781, Test Acc: 0.7054, Time: 69.5, lr: 0.000500\n",
            "ViT : Epoch: 20 | Train Acc: 0.6859, Test Acc: 0.7094, Time: 71.6, lr: 0.000400\n",
            "ViT : Epoch: 21 | Train Acc: 0.6852, Test Acc: 0.7067, Time: 69.9, lr: 0.000300\n",
            "ViT : Epoch: 22 | Train Acc: 0.6913, Test Acc: 0.7089, Time: 70.4, lr: 0.000200\n",
            "ViT : Epoch: 23 | Train Acc: 0.6938, Test Acc: 0.7107, Time: 70.5, lr: 0.000100\n",
            "ViT : Epoch: 24 | Train Acc: 0.6944, Test Acc: 0.7116, Time: 72.6, lr: 0.000000\n"
          ]
        }
      ],
      "source": [
        "import time\n",
        "\n",
        "clip_norm = True\n",
        "lr_schedule = lambda t: np.interp([t], [0, EPOCHS*2//5, EPOCHS*4//5, EPOCHS], \n",
        "                                  [0, 0.01, 0.01/20.0, 0])[0]\n",
        "\n",
        "model = nn.DataParallel(model, device_ids=[0]).cuda()\n",
        "opt = optim.AdamW(model.parameters(), lr=0.01, weight_decay=0.01)\n",
        "criterion = nn.CrossEntropyLoss()\n",
        "scaler = torch.cuda.amp.GradScaler()\n",
        "\n",
        "for epoch in range(EPOCHS):\n",
        "    start = time.time()\n",
        "    train_loss, train_acc, n = 0, 0, 0\n",
        "    for i, (X, y) in enumerate(trainloader):\n",
        "        model.train()\n",
        "        X, y = X.cuda(), y.cuda()\n",
        "\n",
        "        lr = lr_schedule(epoch + (i + 1)/len(trainloader))\n",
        "        opt.param_groups[0].update(lr=lr)\n",
        "\n",
        "        opt.zero_grad()\n",
        "        with torch.cuda.amp.autocast():\n",
        "            output = model(X)\n",
        "            loss = criterion(output, y)\n",
        "\n",
        "        scaler.scale(loss).backward()\n",
        "        if clip_norm:\n",
        "            scaler.unscale_(opt)\n",
        "            nn.utils.clip_grad_norm_(model.parameters(), 1.0)\n",
        "        scaler.step(opt)\n",
        "        scaler.update()\n",
        "        \n",
        "        train_loss += loss.item() * y.size(0)\n",
        "        train_acc += (output.max(1)[1] == y).sum().item()\n",
        "        n += y.size(0)\n",
        "        \n",
        "    model.eval()\n",
        "    test_acc, m = 0, 0\n",
        "    with torch.no_grad():\n",
        "        for i, (X, y) in enumerate(testloader):\n",
        "            X, y = X.cuda(), y.cuda()\n",
        "            with torch.cuda.amp.autocast():\n",
        "                output = model(X)\n",
        "            test_acc += (output.max(1)[1] == y).sum().item()\n",
        "            m += y.size(0)\n",
        "\n",
        "    print(f'ViT : Epoch: {epoch} | Train Acc: {train_acc/n:.4f}, Test Acc: {test_acc/m:.4f}, Time: {time.time() - start:.1f}, lr: {lr:.6f}')\n"
      ]
    },
    {
      "cell_type": "code",
      "source": [
        "# Load the model\n",
        "model = model\n",
        "\n",
        "\n",
        "\n",
        "test_transform = transforms.Compose([\n",
        "    transforms.ToTensor(),\n",
        "    #transforms.Normalize(cifar10_mean, cifar10_std)\n",
        "])\n",
        "\n",
        "\n",
        "testset = torchvision.datasets.CIFAR10(root='./data', train=False,\n",
        "                                       download=True, transform=test_transform)\n",
        "testloader = torch.utils.data.DataLoader(testset, batch_size=64,\n",
        "                                         shuffle=False, num_workers=4)\n",
        "\n",
        "# Create a data loader for the test dataset\n",
        "test_loader = testloader\n",
        "\n",
        "# Evaluate the model on the test dataset\n",
        "model.eval()\n",
        "test_loss = 0\n",
        "correct = 0\n",
        "with torch.no_grad():\n",
        "    for images, labels in test_loader:\n",
        "        images=images.cuda()\n",
        "        labels = labels.cuda()\n",
        "        #print(labels)\n",
        "        output = model(images)\n",
        "        test_loss += F.nll_loss(output, labels, reduction='sum').item()\n",
        "        pred = output.argmax(dim=1, keepdim=True)\n",
        "        correct += pred.eq(labels.view_as(pred)).sum().item()\n",
        "\n",
        "# Find the misclassified images\n",
        "misclassified_indices = np.where(pred.cpu().numpy().flatten() != labels.cpu().numpy())[0]\n",
        "misclassified_images = [testset[i][0] for i in misclassified_indices]\n",
        "misclassified_labels = [testset[i][1] for i in misclassified_indices]\n",
        "misclassified_predictions = [pred[i][0].item() for i in misclassified_indices]\n",
        "\n",
        "# Print the misclassified images and their predicted and true labels\n",
        "for i in range(len(misclassified_images)):\n",
        "    print(f\"Image {i}: predicted label={misclassified_predictions[i]}, true label={misclassified_labels[i]}\")\n",
        "    plt.imshow(np.transpose(misclassified_images[i].numpy(), (1, 2, 0)))# np.transpose(misclassified_images[i].numpy(), (1, 2, 0))\n",
        "    plt.show()\n"
      ],
      "metadata": {
        "colab": {
          "base_uri": "https://localhost:8080/",
          "height": 1000
        },
        "id": "lzQZFHs_SmRs",
        "outputId": "bb3f0216-80b6-4cbf-f69f-8e50f80962bc"
      },
      "execution_count": 25,
      "outputs": [
        {
          "output_type": "stream",
          "name": "stdout",
          "text": [
            "Files already downloaded and verified\n",
            "Image 0: predicted label=4, true label=3\n"
          ]
        },
        {
          "output_type": "display_data",
          "data": {
            "text/plain": [
              "<Figure size 432x288 with 1 Axes>"
            ],
            "image/png": "[encoded data removed]"
          },
          "metadata": {
            "needs_background": "light"
          }
        },
        {
          "output_type": "stream",
          "name": "stdout",
          "text": [
            "Image 1: predicted label=3, true label=8\n"
          ]
        },
        {
          "output_type": "display_data",
          "data": {
            "text/plain": [
              "<Figure size 432x288 with 1 Axes>"
            ],
            "image/png": "[encoded data removed]"
          },
          "metadata": {
            "needs_background": "light"
          }
        },
        {
          "output_type": "stream",
          "name": "stdout",
          "text": [
            "Image 2: predicted label=0, true label=8\n"
          ]
        },
        {
          "output_type": "display_data",
          "data": {
            "text/plain": [
              "<Figure size 432x288 with 1 Axes>"
            ],
            "image/png": "[encoded data removed]"
          },
          "metadata": {
            "needs_background": "light"
          }
        },
        {
          "output_type": "stream",
          "name": "stdout",
          "text": [
            "Image 3: predicted label=2, true label=1\n"
          ]
        },
        {
          "output_type": "display_data",
          "data": {
            "text/plain": [
              "<Figure size 432x288 with 1 Axes>"
            ],
            "image/png": "[encoded data removed]"
          },
          "metadata": {
            "needs_background": "light"
          }
        },
        {
          "output_type": "stream",
          "name": "stdout",
          "text": [
            "Image 4: predicted label=3, true label=1\n"
          ]
        },
        {
          "output_type": "display_data",
          "data": {
            "text/plain": [
              "<Figure size 432x288 with 1 Axes>"
            ],
            "image/png": "[encoded data removed]"
          },
          "metadata": {
            "needs_background": "light"
          }
        },
        {
          "output_type": "stream",
          "name": "stdout",
          "text": [
            "Image 5: predicted label=5, true label=9\n"
          ]
        },
        {
          "output_type": "display_data",
          "data": {
            "text/plain": [
              "<Figure size 432x288 with 1 Axes>"
            ],
            "image/png": "[encoded data removed]"
          },
          "metadata": {
            "needs_background": "light"
          }
        },
        {
          "output_type": "stream",
          "name": "stdout",
          "text": [
            "Image 6: predicted label=3, true label=9\n"
          ]
        },
        {
          "output_type": "display_data",
          "data": {
            "text/plain": [
              "<Figure size 432x288 with 1 Axes>"
            ],
            "image/png": "[encoded data removed]"
          },
          "metadata": {
            "needs_background": "light"
          }
        },
        {
          "output_type": "stream",
          "name": "stdout",
          "text": [
            "Image 7: predicted label=3, true label=8\n"
          ]
        },
        {
          "output_type": "display_data",
          "data": {
            "text/plain": [
              "<Figure size 432x288 with 1 Axes>"
            ],
            "image/png": "[encoded data removed]"
          },
          "metadata": {
            "needs_background": "light"
          }
        }
      ]
    },
    {
      "cell_type": "code",
      "source": [
        "import torch\n",
        "import torchvision\n",
        "import cv2\n",
        "import numpy as np\n",
        "import matplotlib.pyplot as plt\n",
        "\n",
        "# Define the Vision Transformer model\n",
        "model = model\n",
        "model.eval()\n",
        "\n",
        "# Load the CIFAR-10 dataset\n",
        "testset = testset\n",
        "cifar10_mean = (0.4914, 0.4822, 0.4465)\n",
        "cifar10_std = (0.2471, 0.2435, 0.2616)\n",
        "import torch.nn.functional as F\n",
        "from torch.autograd import Variable\n",
        "\n",
        "def generate_gradcam(model, image, class_idx):\n",
        "    # Set the model to evaluation mode\n",
        "    model.eval()\n",
        "\n",
        "    # Convert the image to a tensor and normalize it\n",
        "    transform = transforms.Compose([\n",
        "        transforms.ToTensor(),\n",
        "        transforms.Normalize(mean=[0.5, 0.5, 0.5], std=[0.5, 0.5, 0.5])\n",
        "    ])\n",
        "    #print(\"\")\n",
        "    image_tensor = transform(image).unsqueeze(0)\n",
        "\n",
        "    # Forward pass through the model\n",
        "    features = model.features(image_tensor)\n",
        "    output = model.logits(features)\n",
        "    output = F.softmax(output, dim=1)\n",
        "\n",
        "    # Compute the gradients of the output with respect to the features\n",
        "    one_hot = torch.zeros_like(output)\n",
        "    one_hot[0][class_idx] = 1\n",
        "    one_hot = one_hot * output\n",
        "    one_hot = one_hot.sum(dim=1, keepdim=True)\n",
        "    features = features.clone().detach().requires_grad_(True)\n",
        "    one_hot.backward(gradient=one_hot, retain_graph=True)\n",
        "\n",
        "    # Compute the weights for each feature map\n",
        "    gradients = features.grad\n",
        "    weights = F.adaptive_avg_pool2d(gradients, 1)\n",
        "    weights = torch.clamp(weights, min=0)\n",
        "    weights = weights / (torch.sum(weights) + 1e-8)\n",
        "\n",
        "    # Compute the GradCAM image\n",
        "    gradcam = torch.sum(features * weights, dim=1, keepdim=True)\n",
        "    gradcam = F.relu(gradcam)\n",
        "    gradcam = F.interpolate(gradcam, size=(image.shape[0], image.shape[1]), mode='bilinear', align_corners=False)\n",
        "    gradcam = gradcam.squeeze().numpy()\n",
        "\n",
        "    return gradcam\n",
        "\n",
        "\n",
        "# Get the misclassified images\n",
        "misclassified = []\n",
        "with torch.no_grad():\n",
        "    for i, (image, label) in enumerate(testset):\n",
        "        image = np.array(image)\n",
        "        print(\"size\",torch.unsqueeze(torchvision.transforms.ToTensor()(image), 0).permute(0,2,1,3).shape)\n",
        "        output = model(torch.unsqueeze(torchvision.transforms.ToTensor()(image), 0).permute(0,2,1,3))#torch.unsqueeze(\n",
        "        print(\"output\",output)\n",
        "        pred_label = torch.argmax(output)\n",
        "        if pred_label != label:\n",
        "            misclassified.append((image, label, pred_label))\n",
        "        if len(misclassified) == 10:\n",
        "            break\n",
        "\n",
        "# Plot the misclassified images and their GradCAMs\n",
        "# Plot the misclassified images and their GradCAMs\n",
        "fig, axs = plt.subplots(nrows=5, ncols=2, figsize=(10, 20))\n",
        "for i, (image, label, pred_label) in enumerate(misclassified):\n",
        "    # Generate the GradCAM image for the predicted class\n",
        "    print(\"image\",image.shape)\n",
        "    gradcam = generate_gradcam(model, image, pred_label)\n",
        "\n",
        "    # Convert the image and GradCAM to numpy arrays and rescale them\n",
        "    image = cv2.cvtColor(image, cv2.COLOR_RGB2BGR)\n",
        "    image = cv2.resize(image, (224, 224))\n",
        "    image = (image * 0.5) + 0.5\n",
        "    gradcam = np.uint8(255 * gradcam)\n",
        "\n",
        "    # Overlay the GradCAM on the image\n",
        "    overlay = cv2.applyColorMap(gradcam, cv2.COLORMAP_JET)\n",
        "    overlay = cv2.cvtColor(overlay, cv2.COLOR_BGR2RGB)\n",
        "    heatmap = cv2.addWeighted(image, 0.5, overlay, 0.5, 0)\n",
        "\n",
        "    # Plot the image and GradCAM\n",
        "    row = i // 2\n",
        "    col = i % 2\n",
        "    axs[row, col].imshow(image)\n",
        "    axs[row, col].set_title(f\"True Label: {testset.classes[label]}\\nPredicted Label: {testset.classes[pred_label]}\")\n",
        "    axs[row, col].axis('off')\n",
        "    axs[row+5, col].imshow(heatmap)\n",
        "    axs[row+5, col].set_title(\"GradCAM\")\n",
        "    axs[row+5, col].axis('off')\n",
        "\n",
        "plt.show()\n"
      ],
      "metadata": {
        "id": "YCvbIfN_cn3M"
      },
      "execution_count": null,
      "outputs": []
    }
  ],
  "metadata": {
    "kernelspec": {
      "display_name": "base",
      "language": "python",
      "name": "python3"
    },
    "language_info": {
      "codemirror_mode": {
        "name": "ipython",
        "version": 3
      },
      "file_extension": ".py",
      "mimetype": "text/x-python",
      "name": "python",
      "nbconvert_exporter": "python",
      "pygments_lexer": "ipython3",
      "version": "3.9.7"
    },
    "orig_nbformat": 4,
    "vscode": {
      "interpreter": {
        "hash": "b8fbfcbe0e544000e4ba3d2d9974592a7ba1a2af52205db5302ae41a0c45d995"
      }
    },
    "colab": {
      "provenance": [],
      "include_colab_link": true
    },
    "accelerator": "GPU",
    "gpuClass": "standard",
    "widgets": {
      "application/vnd.jupyter.widget-state+json": {
        "9bc82de559c94bb482eb7c6dab8e19c8": {
          "model_module": "@jupyter-widgets/controls",
          "model_name": "HBoxModel",
          "model_module_version": "1.5.0",
          "state": {
            "_dom_classes": [],
            "_model_module": "@jupyter-widgets/controls",
            "_model_module_version": "1.5.0",
            "_model_name": "HBoxModel",
            "_view_count": null,
            "_view_module": "@jupyter-widgets/controls",
            "_view_module_version": "1.5.0",
            "_view_name": "HBoxView",
            "box_style": "",
            "children": [
              "IPY_MODEL_4768ef2a98da46b4b6dc436a695f3556",
              "IPY_MODEL_17a4b1a4ecd04365a8c6cabf4b102369",
              "IPY_MODEL_5fbfef80c1804e299b7172fc79a98115"
            ],
            "layout": "IPY_MODEL_5363423122614d67aea47075729acd4e"
          }
        },
        "4768ef2a98da46b4b6dc436a695f3556": {
          "model_module": "@jupyter-widgets/controls",
          "model_name": "HTMLModel",
          "model_module_version": "1.5.0",
          "state": {
            "_dom_classes": [],
            "_model_module": "@jupyter-widgets/controls",
            "_model_module_version": "1.5.0",
            "_model_name": "HTMLModel",
            "_view_count": null,
            "_view_module": "@jupyter-widgets/controls",
            "_view_module_version": "1.5.0",
            "_view_name": "HTMLView",
            "description": "",
            "description_tooltip": null,
            "layout": "IPY_MODEL_b41211204a7f46f1ac709ff991648f5a",
            "placeholder": "​",
            "style": "IPY_MODEL_a35e6653123844a1ae9447bc017f3035",
            "value": "100%"
          }
        },
        "17a4b1a4ecd04365a8c6cabf4b102369": {
          "model_module": "@jupyter-widgets/controls",
          "model_name": "FloatProgressModel",
          "model_module_version": "1.5.0",
          "state": {
            "_dom_classes": [],
            "_model_module": "@jupyter-widgets/controls",
            "_model_module_version": "1.5.0",
            "_model_name": "FloatProgressModel",
            "_view_count": null,
            "_view_module": "@jupyter-widgets/controls",
            "_view_module_version": "1.5.0",
            "_view_name": "ProgressView",
            "bar_style": "success",
            "description": "",
            "description_tooltip": null,
            "layout": "IPY_MODEL_db800401a9644535a7ce9229280752ad",
            "max": 170498071,
            "min": 0,
            "orientation": "horizontal",
            "style": "IPY_MODEL_d3989684fd124e47835bec132589efdf",
            "value": 170498071
          }
        },
        "5fbfef80c1804e299b7172fc79a98115": {
          "model_module": "@jupyter-widgets/controls",
          "model_name": "HTMLModel",
          "model_module_version": "1.5.0",
          "state": {
            "_dom_classes": [],
            "_model_module": "@jupyter-widgets/controls",
            "_model_module_version": "1.5.0",
            "_model_name": "HTMLModel",
            "_view_count": null,
            "_view_module": "@jupyter-widgets/controls",
            "_view_module_version": "1.5.0",
            "_view_name": "HTMLView",
            "description": "",
            "description_tooltip": null,
            "layout": "IPY_MODEL_9649fbabfeb74a0d9d8114b05601fa14",
            "placeholder": "​",
            "style": "IPY_MODEL_5a4c90efb2fe46358fd11306d3be35d4",
            "value": " 170498071/170498071 [00:13&lt;00:00, 13553220.19it/s]"
          }
        },
        "5363423122614d67aea47075729acd4e": {
          "model_module": "@jupyter-widgets/base",
          "model_name": "LayoutModel",
          "model_module_version": "1.2.0",
          "state": {
            "_model_module": "@jupyter-widgets/base",
            "_model_module_version": "1.2.0",
            "_model_name": "LayoutModel",
            "_view_count": null,
            "_view_module": "@jupyter-widgets/base",
            "_view_module_version": "1.2.0",
            "_view_name": "LayoutView",
            "align_content": null,
            "align_items": null,
            "align_self": null,
            "border": null,
            "bottom": null,
            "display": null,
            "flex": null,
            "flex_flow": null,
            "grid_area": null,
            "grid_auto_columns": null,
            "grid_auto_flow": null,
            "grid_auto_rows": null,
            "grid_column": null,
            "grid_gap": null,
            "grid_row": null,
            "grid_template_areas": null,
            "grid_template_columns": null,
            "grid_template_rows": null,
            "height": null,
            "justify_content": null,
            "justify_items": null,
            "left": null,
            "margin": null,
            "max_height": null,
            "max_width": null,
            "min_height": null,
            "min_width": null,
            "object_fit": null,
            "object_position": null,
            "order": null,
            "overflow": null,
            "overflow_x": null,
            "overflow_y": null,
            "padding": null,
            "right": null,
            "top": null,
            "visibility": null,
            "width": null
          }
        },
        "b41211204a7f46f1ac709ff991648f5a": {
          "model_module": "@jupyter-widgets/base",
          "model_name": "LayoutModel",
          "model_module_version": "1.2.0",
          "state": {
            "_model_module": "@jupyter-widgets/base",
            "_model_module_version": "1.2.0",
            "_model_name": "LayoutModel",
            "_view_count": null,
            "_view_module": "@jupyter-widgets/base",
            "_view_module_version": "1.2.0",
            "_view_name": "LayoutView",
            "align_content": null,
            "align_items": null,
            "align_self": null,
            "border": null,
            "bottom": null,
            "display": null,
            "flex": null,
            "flex_flow": null,
            "grid_area": null,
            "grid_auto_columns": null,
            "grid_auto_flow": null,
            "grid_auto_rows": null,
            "grid_column": null,
            "grid_gap": null,
            "grid_row": null,
            "grid_template_areas": null,
            "grid_template_columns": null,
            "grid_template_rows": null,
            "height": null,
            "justify_content": null,
            "justify_items": null,
            "left": null,
            "margin": null,
            "max_height": null,
            "max_width": null,
            "min_height": null,
            "min_width": null,
            "object_fit": null,
            "object_position": null,
            "order": null,
            "overflow": null,
            "overflow_x": null,
            "overflow_y": null,
            "padding": null,
            "right": null,
            "top": null,
            "visibility": null,
            "width": null
          }
        },
        "a35e6653123844a1ae9447bc017f3035": {
          "model_module": "@jupyter-widgets/controls",
          "model_name": "DescriptionStyleModel",
          "model_module_version": "1.5.0",
          "state": {
            "_model_module": "@jupyter-widgets/controls",
            "_model_module_version": "1.5.0",
            "_model_name": "DescriptionStyleModel",
            "_view_count": null,
            "_view_module": "@jupyter-widgets/base",
            "_view_module_version": "1.2.0",
            "_view_name": "StyleView",
            "description_width": ""
          }
        },
        "db800401a9644535a7ce9229280752ad": {
          "model_module": "@jupyter-widgets/base",
          "model_name": "LayoutModel",
          "model_module_version": "1.2.0",
          "state": {
            "_model_module": "@jupyter-widgets/base",
            "_model_module_version": "1.2.0",
            "_model_name": "LayoutModel",
            "_view_count": null,
            "_view_module": "@jupyter-widgets/base",
            "_view_module_version": "1.2.0",
            "_view_name": "LayoutView",
            "align_content": null,
            "align_items": null,
            "align_self": null,
            "border": null,
            "bottom": null,
            "display": null,
            "flex": null,
            "flex_flow": null,
            "grid_area": null,
            "grid_auto_columns": null,
            "grid_auto_flow": null,
            "grid_auto_rows": null,
            "grid_column": null,
            "grid_gap": null,
            "grid_row": null,
            "grid_template_areas": null,
            "grid_template_columns": null,
            "grid_template_rows": null,
            "height": null,
            "justify_content": null,
            "justify_items": null,
            "left": null,
            "margin": null,
            "max_height": null,
            "max_width": null,
            "min_height": null,
            "min_width": null,
            "object_fit": null,
            "object_position": null,
            "order": null,
            "overflow": null,
            "overflow_x": null,
            "overflow_y": null,
            "padding": null,
            "right": null,
            "top": null,
            "visibility": null,
            "width": null
          }
        },
        "d3989684fd124e47835bec132589efdf": {
          "model_module": "@jupyter-widgets/controls",
          "model_name": "ProgressStyleModel",
          "model_module_version": "1.5.0",
          "state": {
            "_model_module": "@jupyter-widgets/controls",
            "_model_module_version": "1.5.0",
            "_model_name": "ProgressStyleModel",
            "_view_count": null,
            "_view_module": "@jupyter-widgets/base",
            "_view_module_version": "1.2.0",
            "_view_name": "StyleView",
            "bar_color": null,
            "description_width": ""
          }
        },
        "9649fbabfeb74a0d9d8114b05601fa14": {
          "model_module": "@jupyter-widgets/base",
          "model_name": "LayoutModel",
          "model_module_version": "1.2.0",
          "state": {
            "_model_module": "@jupyter-widgets/base",
            "_model_module_version": "1.2.0",
            "_model_name": "LayoutModel",
            "_view_count": null,
            "_view_module": "@jupyter-widgets/base",
            "_view_module_version": "1.2.0",
            "_view_name": "LayoutView",
            "align_content": null,
            "align_items": null,
            "align_self": null,
            "border": null,
            "bottom": null,
            "display": null,
            "flex": null,
            "flex_flow": null,
            "grid_area": null,
            "grid_auto_columns": null,
            "grid_auto_flow": null,
            "grid_auto_rows": null,
            "grid_column": null,
            "grid_gap": null,
            "grid_row": null,
            "grid_template_areas": null,
            "grid_template_columns": null,
            "grid_template_rows": null,
            "height": null,
            "justify_content": null,
            "justify_items": null,
            "left": null,
            "margin": null,
            "max_height": null,
            "max_width": null,
            "min_height": null,
            "min_width": null,
            "object_fit": null,
            "object_position": null,
            "order": null,
            "overflow": null,
            "overflow_x": null,
            "overflow_y": null,
            "padding": null,
            "right": null,
            "top": null,
            "visibility": null,
            "width": null
          }
        },
        "5a4c90efb2fe46358fd11306d3be35d4": {
          "model_module": "@jupyter-widgets/controls",
          "model_name": "DescriptionStyleModel",
          "model_module_version": "1.5.0",
          "state": {
            "_model_module": "@jupyter-widgets/controls",
            "_model_module_version": "1.5.0",
            "_model_name": "DescriptionStyleModel",
            "_view_count": null,
            "_view_module": "@jupyter-widgets/base",
            "_view_module_version": "1.2.0",
            "_view_name": "StyleView",
            "description_width": ""
          }
        }
      }
    }
  },
  "nbformat": 4,
  "nbformat_minor": 0
}